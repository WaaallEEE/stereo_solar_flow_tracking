{
 "cells": [
  {
   "cell_type": "code",
   "execution_count": 19,
   "id": "34ae10cb-0caf-46ba-91a0-8ceb1160e087",
   "metadata": {},
   "outputs": [],
   "source": [
    "import os\n",
    "from pathlib import PurePath\n",
    "import pandas as pd\n",
    "import matplotlib.pyplot as plt\n",
    "import numpy as np"
   ]
  },
  {
   "cell_type": "code",
   "execution_count": 7,
   "id": "8016192c-99d5-49af-b2ce-5f831c8fe64e",
   "metadata": {},
   "outputs": [
    {
     "data": {
      "text/html": [
       "<div>\n",
       "<style scoped>\n",
       "    .dataframe tbody tr th:only-of-type {\n",
       "        vertical-align: middle;\n",
       "    }\n",
       "\n",
       "    .dataframe tbody tr th {\n",
       "        vertical-align: top;\n",
       "    }\n",
       "\n",
       "    .dataframe thead th {\n",
       "        text-align: right;\n",
       "    }\n",
       "</style>\n",
       "<table border=\"1\" class=\"dataframe\">\n",
       "  <thead>\n",
       "    <tr style=\"text-align: right;\">\n",
       "      <th></th>\n",
       "      <th>frame</th>\n",
       "      <th>blob_id_init</th>\n",
       "      <th>blob_id</th>\n",
       "      <th>x</th>\n",
       "      <th>y</th>\n",
       "    </tr>\n",
       "  </thead>\n",
       "  <tbody>\n",
       "    <tr>\n",
       "      <th>0</th>\n",
       "      <td>0</td>\n",
       "      <td>21</td>\n",
       "      <td>21</td>\n",
       "      <td>26.0</td>\n",
       "      <td>110.0</td>\n",
       "    </tr>\n",
       "    <tr>\n",
       "      <th>1</th>\n",
       "      <td>0</td>\n",
       "      <td>52</td>\n",
       "      <td>52</td>\n",
       "      <td>16.0</td>\n",
       "      <td>461.0</td>\n",
       "    </tr>\n",
       "    <tr>\n",
       "      <th>2</th>\n",
       "      <td>0</td>\n",
       "      <td>159</td>\n",
       "      <td>159</td>\n",
       "      <td>53.0</td>\n",
       "      <td>124.0</td>\n",
       "    </tr>\n",
       "    <tr>\n",
       "      <th>3</th>\n",
       "      <td>0</td>\n",
       "      <td>346</td>\n",
       "      <td>346</td>\n",
       "      <td>112.0</td>\n",
       "      <td>107.0</td>\n",
       "    </tr>\n",
       "    <tr>\n",
       "      <th>4</th>\n",
       "      <td>0</td>\n",
       "      <td>369</td>\n",
       "      <td>369</td>\n",
       "      <td>293.0</td>\n",
       "      <td>205.0</td>\n",
       "    </tr>\n",
       "    <tr>\n",
       "      <th>...</th>\n",
       "      <td>...</td>\n",
       "      <td>...</td>\n",
       "      <td>...</td>\n",
       "      <td>...</td>\n",
       "      <td>...</td>\n",
       "    </tr>\n",
       "    <tr>\n",
       "      <th>195</th>\n",
       "      <td>9</td>\n",
       "      <td>1172</td>\n",
       "      <td>1536</td>\n",
       "      <td>127.0</td>\n",
       "      <td>258.0</td>\n",
       "    </tr>\n",
       "    <tr>\n",
       "      <th>196</th>\n",
       "      <td>9</td>\n",
       "      <td>915</td>\n",
       "      <td>1874</td>\n",
       "      <td>265.0</td>\n",
       "      <td>164.0</td>\n",
       "    </tr>\n",
       "    <tr>\n",
       "      <th>197</th>\n",
       "      <td>9</td>\n",
       "      <td>277</td>\n",
       "      <td>27</td>\n",
       "      <td>477.0</td>\n",
       "      <td>94.0</td>\n",
       "    </tr>\n",
       "    <tr>\n",
       "      <th>198</th>\n",
       "      <td>9</td>\n",
       "      <td>774</td>\n",
       "      <td>607</td>\n",
       "      <td>539.0</td>\n",
       "      <td>509.0</td>\n",
       "    </tr>\n",
       "    <tr>\n",
       "      <th>199</th>\n",
       "      <td>9</td>\n",
       "      <td>739</td>\n",
       "      <td>942</td>\n",
       "      <td>7.0</td>\n",
       "      <td>287.0</td>\n",
       "    </tr>\n",
       "  </tbody>\n",
       "</table>\n",
       "<p>200 rows × 5 columns</p>\n",
       "</div>"
      ],
      "text/plain": [
       "     frame  blob_id_init  blob_id      x      y\n",
       "0        0            21       21   26.0  110.0\n",
       "1        0            52       52   16.0  461.0\n",
       "2        0           159      159   53.0  124.0\n",
       "3        0           346      346  112.0  107.0\n",
       "4        0           369      369  293.0  205.0\n",
       "..     ...           ...      ...    ...    ...\n",
       "195      9          1172     1536  127.0  258.0\n",
       "196      9           915     1874  265.0  164.0\n",
       "197      9           277       27  477.0   94.0\n",
       "198      9           774      607  539.0  509.0\n",
       "199      9           739      942    7.0  287.0\n",
       "\n",
       "[200 rows x 5 columns]"
      ]
     },
     "execution_count": 7,
     "metadata": {},
     "output_type": "execute_result"
    }
   ],
   "source": [
    "outputdir = PurePath(os.environ['DATA'], 'STEREO/L7tum/')\n",
    "csvf = PurePath(outputdir, 'training_set', 'targets.csv')\n",
    "df = pd.read_csv(csvf, index_col=0)\n",
    "df"
   ]
  },
  {
   "cell_type": "code",
   "execution_count": 17,
   "id": "7ef421ae-1daa-4fba-ac85-749d4973d934",
   "metadata": {},
   "outputs": [
    {
     "data": {
      "text/html": [
       "<div>\n",
       "<style scoped>\n",
       "    .dataframe tbody tr th:only-of-type {\n",
       "        vertical-align: middle;\n",
       "    }\n",
       "\n",
       "    .dataframe tbody tr th {\n",
       "        vertical-align: top;\n",
       "    }\n",
       "\n",
       "    .dataframe thead th {\n",
       "        text-align: right;\n",
       "    }\n",
       "</style>\n",
       "<table border=\"1\" class=\"dataframe\">\n",
       "  <thead>\n",
       "    <tr style=\"text-align: right;\">\n",
       "      <th></th>\n",
       "      <th>frame</th>\n",
       "      <th>blob_id_init</th>\n",
       "      <th>blob_id</th>\n",
       "      <th>x</th>\n",
       "      <th>y</th>\n",
       "    </tr>\n",
       "  </thead>\n",
       "  <tbody>\n",
       "    <tr>\n",
       "      <th>0</th>\n",
       "      <td>0</td>\n",
       "      <td>21</td>\n",
       "      <td>21</td>\n",
       "      <td>26.0</td>\n",
       "      <td>110.0</td>\n",
       "    </tr>\n",
       "  </tbody>\n",
       "</table>\n",
       "</div>"
      ],
      "text/plain": [
       "   frame  blob_id_init  blob_id     x      y\n",
       "0      0            21       21  26.0  110.0"
      ]
     },
     "execution_count": 17,
     "metadata": {},
     "output_type": "execute_result"
    }
   ],
   "source": [
    "df[(df['frame']==0) & (df['blob_id_init']==21)]"
   ]
  },
  {
   "cell_type": "code",
   "execution_count": 29,
   "id": "b143de45-038f-420c-8ae5-424de4979500",
   "metadata": {},
   "outputs": [
    {
     "data": {
      "text/html": [
       "<div>\n",
       "<style scoped>\n",
       "    .dataframe tbody tr th:only-of-type {\n",
       "        vertical-align: middle;\n",
       "    }\n",
       "\n",
       "    .dataframe tbody tr th {\n",
       "        vertical-align: top;\n",
       "    }\n",
       "\n",
       "    .dataframe thead th {\n",
       "        text-align: right;\n",
       "    }\n",
       "</style>\n",
       "<table border=\"1\" class=\"dataframe\">\n",
       "  <thead>\n",
       "    <tr style=\"text-align: right;\">\n",
       "      <th></th>\n",
       "      <th>frame</th>\n",
       "      <th>blob_id_init</th>\n",
       "      <th>blob_id</th>\n",
       "      <th>x</th>\n",
       "      <th>y</th>\n",
       "    </tr>\n",
       "  </thead>\n",
       "  <tbody>\n",
       "    <tr>\n",
       "      <th>0</th>\n",
       "      <td>0</td>\n",
       "      <td>21</td>\n",
       "      <td>21</td>\n",
       "      <td>26.0</td>\n",
       "      <td>110.0</td>\n",
       "    </tr>\n",
       "    <tr>\n",
       "      <th>20</th>\n",
       "      <td>1</td>\n",
       "      <td>21</td>\n",
       "      <td>27</td>\n",
       "      <td>26.0</td>\n",
       "      <td>112.0</td>\n",
       "    </tr>\n",
       "    <tr>\n",
       "      <th>40</th>\n",
       "      <td>2</td>\n",
       "      <td>21</td>\n",
       "      <td>32</td>\n",
       "      <td>24.0</td>\n",
       "      <td>123.0</td>\n",
       "    </tr>\n",
       "    <tr>\n",
       "      <th>60</th>\n",
       "      <td>3</td>\n",
       "      <td>21</td>\n",
       "      <td>42</td>\n",
       "      <td>24.0</td>\n",
       "      <td>137.0</td>\n",
       "    </tr>\n",
       "    <tr>\n",
       "      <th>80</th>\n",
       "      <td>4</td>\n",
       "      <td>21</td>\n",
       "      <td>59</td>\n",
       "      <td>24.0</td>\n",
       "      <td>138.0</td>\n",
       "    </tr>\n",
       "    <tr>\n",
       "      <th>100</th>\n",
       "      <td>5</td>\n",
       "      <td>21</td>\n",
       "      <td>100</td>\n",
       "      <td>23.0</td>\n",
       "      <td>143.0</td>\n",
       "    </tr>\n",
       "    <tr>\n",
       "      <th>120</th>\n",
       "      <td>6</td>\n",
       "      <td>21</td>\n",
       "      <td>185</td>\n",
       "      <td>23.0</td>\n",
       "      <td>148.0</td>\n",
       "    </tr>\n",
       "    <tr>\n",
       "      <th>140</th>\n",
       "      <td>7</td>\n",
       "      <td>21</td>\n",
       "      <td>358</td>\n",
       "      <td>23.0</td>\n",
       "      <td>156.0</td>\n",
       "    </tr>\n",
       "    <tr>\n",
       "      <th>160</th>\n",
       "      <td>8</td>\n",
       "      <td>21</td>\n",
       "      <td>643</td>\n",
       "      <td>23.0</td>\n",
       "      <td>161.0</td>\n",
       "    </tr>\n",
       "    <tr>\n",
       "      <th>180</th>\n",
       "      <td>9</td>\n",
       "      <td>21</td>\n",
       "      <td>1155</td>\n",
       "      <td>23.0</td>\n",
       "      <td>166.0</td>\n",
       "    </tr>\n",
       "  </tbody>\n",
       "</table>\n",
       "</div>"
      ],
      "text/plain": [
       "     frame  blob_id_init  blob_id     x      y\n",
       "0        0            21       21  26.0  110.0\n",
       "20       1            21       27  26.0  112.0\n",
       "40       2            21       32  24.0  123.0\n",
       "60       3            21       42  24.0  137.0\n",
       "80       4            21       59  24.0  138.0\n",
       "100      5            21      100  23.0  143.0\n",
       "120      6            21      185  23.0  148.0\n",
       "140      7            21      358  23.0  156.0\n",
       "160      8            21      643  23.0  161.0\n",
       "180      9            21     1155  23.0  166.0"
      ]
     },
     "execution_count": 29,
     "metadata": {},
     "output_type": "execute_result"
    }
   ],
   "source": [
    "df[df['blob_id_init']==21]"
   ]
  },
  {
   "cell_type": "code",
   "execution_count": 21,
   "id": "4ff6ed5f-d4b4-41f1-a9cb-6ae39486bcb4",
   "metadata": {},
   "outputs": [],
   "source": [
    "nframes = 10\n",
    "blob_inits = df[df['frame'] == 0]['blob_id_init']\n",
    "nblobs = len(blob_inits)"
   ]
  },
  {
   "cell_type": "code",
   "execution_count": 31,
   "id": "886145b6-b5f0-490d-b82f-8b33ccdbb240",
   "metadata": {},
   "outputs": [
    {
     "name": "stdout",
     "output_type": "stream",
     "text": [
      "(x,y) coordinates of the 1st blob through time\n"
     ]
    },
    {
     "data": {
      "text/plain": [
       "array([[ 26., 110.],\n",
       "       [ 26., 112.],\n",
       "       [ 24., 123.],\n",
       "       [ 24., 137.],\n",
       "       [ 24., 138.],\n",
       "       [ 23., 143.],\n",
       "       [ 23., 148.],\n",
       "       [ 23., 156.],\n",
       "       [ 23., 161.],\n",
       "       [ 23., 166.]])"
      ]
     },
     "execution_count": 31,
     "metadata": {},
     "output_type": "execute_result"
    }
   ],
   "source": [
    "pos_array = np.zeros((nblobs, nframes, 2))\n",
    "for f in range(nframes):\n",
    "    for i, b in enumerate(blob_inits):\n",
    "        pos_array[i, f, 0] = df[(df['frame'] == f) & (df['blob_id_init']==b)]['x']\n",
    "        pos_array[i, f, 1] = df[(df['frame'] == f) & (df['blob_id_init']==b)]['y']\n",
    "\n",
    "print('(x,y) coordinates of the 1st blob through time')\n",
    "pos_array[0, :, :]"
   ]
  },
  {
   "cell_type": "code",
   "execution_count": 33,
   "id": "c3bd852e-d55f-4378-b7ff-c47e95514aff",
   "metadata": {},
   "outputs": [
    {
     "name": "stdout",
     "output_type": "stream",
     "text": [
      "(vx, vy) of the 1st blob through time\n"
     ]
    },
    {
     "data": {
      "text/plain": [
       "array([[ 0.,  2.],\n",
       "       [-2., 11.],\n",
       "       [ 0., 14.],\n",
       "       [ 0.,  1.],\n",
       "       [-1.,  5.],\n",
       "       [ 0.,  5.],\n",
       "       [ 0.,  8.],\n",
       "       [ 0.,  5.],\n",
       "       [ 0.,  5.]])"
      ]
     },
     "execution_count": 33,
     "metadata": {},
     "output_type": "execute_result"
    }
   ],
   "source": [
    "vel_array = pos_array[:, 1:, :] - pos_array[:, 0:-1, :]\n",
    "print('(vx, vy) of the 1st blob through time')\n",
    "vel_array[0, :, :]"
   ]
  },
  {
   "cell_type": "code",
   "execution_count": 34,
   "id": "c67631e1-abf6-4bfd-9327-3c00c84c53af",
   "metadata": {},
   "outputs": [
    {
     "data": {
      "text/plain": [
       "array([[-3., 56.],\n",
       "       [-3., 66.],\n",
       "       [ 2., 61.],\n",
       "       [-1., 51.],\n",
       "       [ 0., 65.],\n",
       "       [-1., 48.],\n",
       "       [ 0., 57.],\n",
       "       [-5., 49.],\n",
       "       [ 0., 66.],\n",
       "       [ 0., 70.],\n",
       "       [ 1., 59.],\n",
       "       [-2., 33.],\n",
       "       [-2., 44.],\n",
       "       [ 2., 73.],\n",
       "       [ 3., 53.],\n",
       "       [ 0., 53.],\n",
       "       [-1., 70.],\n",
       "       [-2., 35.],\n",
       "       [-1., 57.],\n",
       "       [-3., 60.]])"
      ]
     },
     "execution_count": 34,
     "metadata": {},
     "output_type": "execute_result"
    }
   ],
   "source": [
    "avg_vel = pos_array[:, -1, :] - pos_array[:, 0, :]\n",
    "avg_vel"
   ]
  },
  {
   "cell_type": "markdown",
   "id": "95de6e26-3d1c-45e6-9d11-e176e5705489",
   "metadata": {},
   "source": [
    "### Get physical coordinates"
   ]
  },
  {
   "cell_type": "code",
   "execution_count": 36,
   "id": "5897b7ef-dca5-49fc-96e4-596a5e0a346c",
   "metadata": {},
   "outputs": [],
   "source": [
    "DSUN_OBS= 1.433675e6  # Solar diameter in km\n",
    "RSUN = DSUN_OBS/2  # Solar radius in km\n",
    "DT = 5*60 # 5 minutes time interval between each frame\n",
    "CDELT2  = 0.0141875720451562 # solar radius / px\n",
    "VUNIT = CDELT2 * RSUN/DT "
   ]
  },
  {
   "cell_type": "code",
   "execution_count": 42,
   "id": "64c051c6-4137-484c-86f3-bb05fd1559c5",
   "metadata": {},
   "outputs": [
    {
     "data": {
      "text/plain": [
       "array([[-11.30020408, 210.93714291],\n",
       "       [-11.30020408, 248.60448986],\n",
       "       [  7.53346939, 229.77081638],\n",
       "       [ -3.76673469, 192.10346943],\n",
       "       [  0.        , 244.83775516],\n",
       "       [ -3.76673469, 180.80326535],\n",
       "       [  0.        , 214.7038776 ],\n",
       "       [-18.83367347, 184.57000004],\n",
       "       [  0.        , 248.60448986],\n",
       "       [  0.        , 263.67142863],\n",
       "       [  3.76673469, 222.23734699],\n",
       "       [ -7.53346939, 124.30224493],\n",
       "       [ -7.53346939, 165.73632657],\n",
       "       [  7.53346939, 274.97163272],\n",
       "       [ 11.30020408, 199.63693882],\n",
       "       [  0.        , 199.63693882],\n",
       "       [ -3.76673469, 263.67142863],\n",
       "       [ -7.53346939, 131.83571432],\n",
       "       [ -3.76673469, 214.7038776 ],\n",
       "       [-11.30020408, 226.00408169]])"
      ]
     },
     "execution_count": 42,
     "metadata": {},
     "output_type": "execute_result"
    }
   ],
   "source": [
    "avg_vel_km = avg_vel*VUNIT/9\n",
    "avg_vel_km"
   ]
  },
  {
   "cell_type": "code",
   "execution_count": 45,
   "id": "c560b93b-a438-46f5-be06-912b84650161",
   "metadata": {},
   "outputs": [
    {
     "data": {
      "text/plain": [
       "array([ -3.01338776, 212.06716332])"
      ]
     },
     "execution_count": 45,
     "metadata": {},
     "output_type": "execute_result"
    }
   ],
   "source": [
    "avg_vel_km.mean(axis=0)"
   ]
  },
  {
   "cell_type": "code",
   "execution_count": null,
   "id": "e14f6933-7ebe-48b7-809a-f8b5c2453db8",
   "metadata": {},
   "outputs": [],
   "source": []
  }
 ],
 "metadata": {
  "kernelspec": {
   "display_name": "Python 3",
   "language": "python",
   "name": "python3"
  },
  "language_info": {
   "codemirror_mode": {
    "name": "ipython",
    "version": 3
   },
   "file_extension": ".py",
   "mimetype": "text/x-python",
   "name": "python",
   "nbconvert_exporter": "python",
   "pygments_lexer": "ipython3",
   "version": "3.8.12"
  }
 },
 "nbformat": 4,
 "nbformat_minor": 5
}
