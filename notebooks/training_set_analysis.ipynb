{
 "cells": [
  {
   "cell_type": "code",
   "execution_count": 21,
   "id": "34ae10cb-0caf-46ba-91a0-8ceb1160e087",
   "metadata": {},
   "outputs": [],
   "source": [
    "import os\n",
    "from pathlib import PurePath\n",
    "import pandas as pd\n",
    "import matplotlib.pyplot as plt\n",
    "import numpy as np"
   ]
  },
  {
   "cell_type": "code",
   "execution_count": 22,
   "id": "8016192c-99d5-49af-b2ce-5f831c8fe64e",
   "metadata": {},
   "outputs": [
    {
     "data": {
      "text/html": [
       "<div>\n",
       "<style scoped>\n",
       "    .dataframe tbody tr th:only-of-type {\n",
       "        vertical-align: middle;\n",
       "    }\n",
       "\n",
       "    .dataframe tbody tr th {\n",
       "        vertical-align: top;\n",
       "    }\n",
       "\n",
       "    .dataframe thead th {\n",
       "        text-align: right;\n",
       "    }\n",
       "</style>\n",
       "<table border=\"1\" class=\"dataframe\">\n",
       "  <thead>\n",
       "    <tr style=\"text-align: right;\">\n",
       "      <th></th>\n",
       "      <th>frame</th>\n",
       "      <th>blob_id_init</th>\n",
       "      <th>blob_id</th>\n",
       "      <th>x</th>\n",
       "      <th>y</th>\n",
       "      <th>xblob</th>\n",
       "      <th>yblob</th>\n",
       "      <th>sig_b</th>\n",
       "      <th>sig_a</th>\n",
       "    </tr>\n",
       "  </thead>\n",
       "  <tbody>\n",
       "    <tr>\n",
       "      <th>0</th>\n",
       "      <td>0</td>\n",
       "      <td>21</td>\n",
       "      <td>21</td>\n",
       "      <td>26.0</td>\n",
       "      <td>110.0</td>\n",
       "      <td>26.0</td>\n",
       "      <td>108.0</td>\n",
       "      <td>20.48</td>\n",
       "      <td>4.096</td>\n",
       "    </tr>\n",
       "    <tr>\n",
       "      <th>1</th>\n",
       "      <td>0</td>\n",
       "      <td>52</td>\n",
       "      <td>52</td>\n",
       "      <td>16.0</td>\n",
       "      <td>461.0</td>\n",
       "      <td>16.0</td>\n",
       "      <td>465.0</td>\n",
       "      <td>20.48</td>\n",
       "      <td>4.096</td>\n",
       "    </tr>\n",
       "    <tr>\n",
       "      <th>2</th>\n",
       "      <td>0</td>\n",
       "      <td>159</td>\n",
       "      <td>159</td>\n",
       "      <td>53.0</td>\n",
       "      <td>124.0</td>\n",
       "      <td>55.0</td>\n",
       "      <td>117.0</td>\n",
       "      <td>20.48</td>\n",
       "      <td>4.096</td>\n",
       "    </tr>\n",
       "    <tr>\n",
       "      <th>3</th>\n",
       "      <td>0</td>\n",
       "      <td>346</td>\n",
       "      <td>346</td>\n",
       "      <td>112.0</td>\n",
       "      <td>107.0</td>\n",
       "      <td>110.0</td>\n",
       "      <td>109.0</td>\n",
       "      <td>20.48</td>\n",
       "      <td>4.096</td>\n",
       "    </tr>\n",
       "    <tr>\n",
       "      <th>4</th>\n",
       "      <td>0</td>\n",
       "      <td>369</td>\n",
       "      <td>369</td>\n",
       "      <td>293.0</td>\n",
       "      <td>205.0</td>\n",
       "      <td>293.0</td>\n",
       "      <td>206.0</td>\n",
       "      <td>20.48</td>\n",
       "      <td>4.096</td>\n",
       "    </tr>\n",
       "    <tr>\n",
       "      <th>...</th>\n",
       "      <td>...</td>\n",
       "      <td>...</td>\n",
       "      <td>...</td>\n",
       "      <td>...</td>\n",
       "      <td>...</td>\n",
       "      <td>...</td>\n",
       "      <td>...</td>\n",
       "      <td>...</td>\n",
       "      <td>...</td>\n",
       "    </tr>\n",
       "    <tr>\n",
       "      <th>195</th>\n",
       "      <td>9</td>\n",
       "      <td>1172</td>\n",
       "      <td>1536</td>\n",
       "      <td>127.0</td>\n",
       "      <td>258.0</td>\n",
       "      <td>127.0</td>\n",
       "      <td>259.0</td>\n",
       "      <td>8.00</td>\n",
       "      <td>1.600</td>\n",
       "    </tr>\n",
       "    <tr>\n",
       "      <th>196</th>\n",
       "      <td>9</td>\n",
       "      <td>915</td>\n",
       "      <td>1874</td>\n",
       "      <td>265.0</td>\n",
       "      <td>164.0</td>\n",
       "      <td>265.0</td>\n",
       "      <td>162.0</td>\n",
       "      <td>8.00</td>\n",
       "      <td>1.600</td>\n",
       "    </tr>\n",
       "    <tr>\n",
       "      <th>197</th>\n",
       "      <td>9</td>\n",
       "      <td>277</td>\n",
       "      <td>27</td>\n",
       "      <td>477.0</td>\n",
       "      <td>94.0</td>\n",
       "      <td>479.0</td>\n",
       "      <td>83.0</td>\n",
       "      <td>20.48</td>\n",
       "      <td>4.096</td>\n",
       "    </tr>\n",
       "    <tr>\n",
       "      <th>198</th>\n",
       "      <td>9</td>\n",
       "      <td>774</td>\n",
       "      <td>607</td>\n",
       "      <td>539.0</td>\n",
       "      <td>509.0</td>\n",
       "      <td>538.0</td>\n",
       "      <td>509.0</td>\n",
       "      <td>12.80</td>\n",
       "      <td>2.560</td>\n",
       "    </tr>\n",
       "    <tr>\n",
       "      <th>199</th>\n",
       "      <td>9</td>\n",
       "      <td>739</td>\n",
       "      <td>942</td>\n",
       "      <td>7.0</td>\n",
       "      <td>287.0</td>\n",
       "      <td>7.0</td>\n",
       "      <td>279.0</td>\n",
       "      <td>12.80</td>\n",
       "      <td>2.560</td>\n",
       "    </tr>\n",
       "  </tbody>\n",
       "</table>\n",
       "<p>200 rows × 9 columns</p>\n",
       "</div>"
      ],
      "text/plain": [
       "     frame  blob_id_init  blob_id      x      y  xblob  yblob  sig_b  sig_a\n",
       "0        0            21       21   26.0  110.0   26.0  108.0  20.48  4.096\n",
       "1        0            52       52   16.0  461.0   16.0  465.0  20.48  4.096\n",
       "2        0           159      159   53.0  124.0   55.0  117.0  20.48  4.096\n",
       "3        0           346      346  112.0  107.0  110.0  109.0  20.48  4.096\n",
       "4        0           369      369  293.0  205.0  293.0  206.0  20.48  4.096\n",
       "..     ...           ...      ...    ...    ...    ...    ...    ...    ...\n",
       "195      9          1172     1536  127.0  258.0  127.0  259.0   8.00  1.600\n",
       "196      9           915     1874  265.0  164.0  265.0  162.0   8.00  1.600\n",
       "197      9           277       27  477.0   94.0  479.0   83.0  20.48  4.096\n",
       "198      9           774      607  539.0  509.0  538.0  509.0  12.80  2.560\n",
       "199      9           739      942    7.0  287.0    7.0  279.0  12.80  2.560\n",
       "\n",
       "[200 rows x 9 columns]"
      ]
     },
     "execution_count": 22,
     "metadata": {},
     "output_type": "execute_result"
    }
   ],
   "source": [
    "outputdir = PurePath(os.environ['DATA'], 'STEREO/L7tum/')\n",
    "csvf = PurePath(outputdir, 'training_set', 'targets.csv')\n",
    "df = pd.read_csv(csvf, index_col=0)\n",
    "df"
   ]
  },
  {
   "cell_type": "code",
   "execution_count": 23,
   "id": "c19d1d78-eed6-49c1-9f18-c17d7c91511e",
   "metadata": {},
   "outputs": [
    {
     "data": {
      "text/html": [
       "<div>\n",
       "<style scoped>\n",
       "    .dataframe tbody tr th:only-of-type {\n",
       "        vertical-align: middle;\n",
       "    }\n",
       "\n",
       "    .dataframe tbody tr th {\n",
       "        vertical-align: top;\n",
       "    }\n",
       "\n",
       "    .dataframe thead th {\n",
       "        text-align: right;\n",
       "    }\n",
       "</style>\n",
       "<table border=\"1\" class=\"dataframe\">\n",
       "  <thead>\n",
       "    <tr style=\"text-align: right;\">\n",
       "      <th></th>\n",
       "      <th>frame</th>\n",
       "      <th>blob_id_init</th>\n",
       "      <th>blob_id</th>\n",
       "      <th>x</th>\n",
       "      <th>y</th>\n",
       "      <th>xblob</th>\n",
       "      <th>yblob</th>\n",
       "      <th>sig_b</th>\n",
       "      <th>sig_a</th>\n",
       "    </tr>\n",
       "  </thead>\n",
       "  <tbody>\n",
       "    <tr>\n",
       "      <th>0</th>\n",
       "      <td>0</td>\n",
       "      <td>21</td>\n",
       "      <td>21</td>\n",
       "      <td>26.0</td>\n",
       "      <td>110.0</td>\n",
       "      <td>26.0</td>\n",
       "      <td>108.0</td>\n",
       "      <td>20.48</td>\n",
       "      <td>4.096</td>\n",
       "    </tr>\n",
       "    <tr>\n",
       "      <th>20</th>\n",
       "      <td>1</td>\n",
       "      <td>21</td>\n",
       "      <td>27</td>\n",
       "      <td>26.0</td>\n",
       "      <td>112.0</td>\n",
       "      <td>26.0</td>\n",
       "      <td>116.0</td>\n",
       "      <td>20.48</td>\n",
       "      <td>4.096</td>\n",
       "    </tr>\n",
       "    <tr>\n",
       "      <th>40</th>\n",
       "      <td>2</td>\n",
       "      <td>21</td>\n",
       "      <td>32</td>\n",
       "      <td>24.0</td>\n",
       "      <td>123.0</td>\n",
       "      <td>26.0</td>\n",
       "      <td>123.0</td>\n",
       "      <td>20.48</td>\n",
       "      <td>4.096</td>\n",
       "    </tr>\n",
       "    <tr>\n",
       "      <th>60</th>\n",
       "      <td>3</td>\n",
       "      <td>21</td>\n",
       "      <td>42</td>\n",
       "      <td>24.0</td>\n",
       "      <td>137.0</td>\n",
       "      <td>25.0</td>\n",
       "      <td>130.0</td>\n",
       "      <td>20.48</td>\n",
       "      <td>4.096</td>\n",
       "    </tr>\n",
       "    <tr>\n",
       "      <th>80</th>\n",
       "      <td>4</td>\n",
       "      <td>21</td>\n",
       "      <td>59</td>\n",
       "      <td>24.0</td>\n",
       "      <td>138.0</td>\n",
       "      <td>25.0</td>\n",
       "      <td>137.0</td>\n",
       "      <td>20.48</td>\n",
       "      <td>4.096</td>\n",
       "    </tr>\n",
       "    <tr>\n",
       "      <th>100</th>\n",
       "      <td>5</td>\n",
       "      <td>21</td>\n",
       "      <td>100</td>\n",
       "      <td>23.0</td>\n",
       "      <td>143.0</td>\n",
       "      <td>25.0</td>\n",
       "      <td>145.0</td>\n",
       "      <td>20.48</td>\n",
       "      <td>4.096</td>\n",
       "    </tr>\n",
       "    <tr>\n",
       "      <th>120</th>\n",
       "      <td>6</td>\n",
       "      <td>21</td>\n",
       "      <td>185</td>\n",
       "      <td>23.0</td>\n",
       "      <td>148.0</td>\n",
       "      <td>24.0</td>\n",
       "      <td>151.0</td>\n",
       "      <td>20.48</td>\n",
       "      <td>4.096</td>\n",
       "    </tr>\n",
       "    <tr>\n",
       "      <th>140</th>\n",
       "      <td>7</td>\n",
       "      <td>21</td>\n",
       "      <td>358</td>\n",
       "      <td>23.0</td>\n",
       "      <td>156.0</td>\n",
       "      <td>24.0</td>\n",
       "      <td>155.0</td>\n",
       "      <td>12.80</td>\n",
       "      <td>2.560</td>\n",
       "    </tr>\n",
       "    <tr>\n",
       "      <th>160</th>\n",
       "      <td>8</td>\n",
       "      <td>21</td>\n",
       "      <td>643</td>\n",
       "      <td>23.0</td>\n",
       "      <td>161.0</td>\n",
       "      <td>24.0</td>\n",
       "      <td>161.0</td>\n",
       "      <td>12.80</td>\n",
       "      <td>2.560</td>\n",
       "    </tr>\n",
       "    <tr>\n",
       "      <th>180</th>\n",
       "      <td>9</td>\n",
       "      <td>21</td>\n",
       "      <td>1155</td>\n",
       "      <td>23.0</td>\n",
       "      <td>166.0</td>\n",
       "      <td>23.0</td>\n",
       "      <td>167.0</td>\n",
       "      <td>8.00</td>\n",
       "      <td>1.600</td>\n",
       "    </tr>\n",
       "  </tbody>\n",
       "</table>\n",
       "</div>"
      ],
      "text/plain": [
       "     frame  blob_id_init  blob_id     x      y  xblob  yblob  sig_b  sig_a\n",
       "0        0            21       21  26.0  110.0   26.0  108.0  20.48  4.096\n",
       "20       1            21       27  26.0  112.0   26.0  116.0  20.48  4.096\n",
       "40       2            21       32  24.0  123.0   26.0  123.0  20.48  4.096\n",
       "60       3            21       42  24.0  137.0   25.0  130.0  20.48  4.096\n",
       "80       4            21       59  24.0  138.0   25.0  137.0  20.48  4.096\n",
       "100      5            21      100  23.0  143.0   25.0  145.0  20.48  4.096\n",
       "120      6            21      185  23.0  148.0   24.0  151.0  20.48  4.096\n",
       "140      7            21      358  23.0  156.0   24.0  155.0  12.80  2.560\n",
       "160      8            21      643  23.0  161.0   24.0  161.0  12.80  2.560\n",
       "180      9            21     1155  23.0  166.0   23.0  167.0   8.00  1.600"
      ]
     },
     "execution_count": 23,
     "metadata": {},
     "output_type": "execute_result"
    }
   ],
   "source": [
    "df.query('blob_id_init == 21')"
   ]
  },
  {
   "cell_type": "code",
   "execution_count": 24,
   "id": "4ff6ed5f-d4b4-41f1-a9cb-6ae39486bcb4",
   "metadata": {},
   "outputs": [
    {
     "name": "stdout",
     "output_type": "stream",
     "text": [
      "20\n"
     ]
    }
   ],
   "source": [
    "nframes = 10\n",
    "blob_inits = df[df['frame'] == 0]['blob_id_init']\n",
    "nblobs = len(blob_inits)\n",
    "print(nblobs)"
   ]
  },
  {
   "cell_type": "code",
   "execution_count": 26,
   "id": "886145b6-b5f0-490d-b82f-8b33ccdbb240",
   "metadata": {},
   "outputs": [
    {
     "name": "stdout",
     "output_type": "stream",
     "text": [
      "(x,y) coordinates of the 1st blob through time\n"
     ]
    },
    {
     "data": {
      "text/plain": [
       "array([[ 26., 108.],\n",
       "       [ 26., 116.],\n",
       "       [ 26., 123.],\n",
       "       [ 25., 130.],\n",
       "       [ 25., 137.],\n",
       "       [ 25., 145.],\n",
       "       [ 24., 151.],\n",
       "       [ 24., 155.],\n",
       "       [ 24., 161.],\n",
       "       [ 23., 167.]])"
      ]
     },
     "execution_count": 26,
     "metadata": {},
     "output_type": "execute_result"
    }
   ],
   "source": [
    "pos_array = np.zeros((nblobs, nframes, 2))\n",
    "for f in range(nframes):\n",
    "    for i, b in enumerate(blob_inits):\n",
    "        pos_array[i, f, 0] = df[(df['frame'] == f) & (df['blob_id_init']==b)]['xblob']\n",
    "        pos_array[i, f, 1] = df[(df['frame'] == f) & (df['blob_id_init']==b)]['yblob']\n",
    "\n",
    "print('(x,y) coordinates of the 1st blob through time')\n",
    "pos_array[0, :, :]"
   ]
  },
  {
   "cell_type": "code",
   "execution_count": 27,
   "id": "c3bd852e-d55f-4378-b7ff-c47e95514aff",
   "metadata": {},
   "outputs": [
    {
     "name": "stdout",
     "output_type": "stream",
     "text": [
      "(vx, vy) of the 1st blob through time\n"
     ]
    },
    {
     "data": {
      "text/plain": [
       "array([[ 0.,  8.],\n",
       "       [ 0.,  7.],\n",
       "       [-1.,  7.],\n",
       "       [ 0.,  7.],\n",
       "       [ 0.,  8.],\n",
       "       [-1.,  6.],\n",
       "       [ 0.,  4.],\n",
       "       [ 0.,  6.],\n",
       "       [-1.,  6.]])"
      ]
     },
     "execution_count": 27,
     "metadata": {},
     "output_type": "execute_result"
    }
   ],
   "source": [
    "vel_array = pos_array[:, 1:, :] - pos_array[:, 0:-1, :]\n",
    "print('(vx, vy) of the 1st blob through time')\n",
    "vel_array[0, :, :]"
   ]
  },
  {
   "cell_type": "code",
   "execution_count": 28,
   "id": "c67631e1-abf6-4bfd-9327-3c00c84c53af",
   "metadata": {},
   "outputs": [
    {
     "data": {
      "text/plain": [
       "array([[-3., 59.],\n",
       "       [-3., 55.],\n",
       "       [ 2., 73.],\n",
       "       [-1., 57.],\n",
       "       [ 0., 63.],\n",
       "       [-1., 48.],\n",
       "       [ 2., 61.],\n",
       "       [-8., 46.],\n",
       "       [ 0., 55.],\n",
       "       [ 0., 66.],\n",
       "       [ 1., 58.],\n",
       "       [-4., 36.],\n",
       "       [-2., 47.],\n",
       "       [ 0., 75.],\n",
       "       [ 0., 45.],\n",
       "       [ 0., 53.],\n",
       "       [-1., 68.],\n",
       "       [-2., 34.],\n",
       "       [-1., 53.],\n",
       "       [-2., 53.]])"
      ]
     },
     "execution_count": 28,
     "metadata": {},
     "output_type": "execute_result"
    }
   ],
   "source": [
    "avg_vel = pos_array[:, -1, :] - pos_array[:, 0, :]\n",
    "avg_vel"
   ]
  },
  {
   "cell_type": "markdown",
   "id": "95de6e26-3d1c-45e6-9d11-e176e5705489",
   "metadata": {},
   "source": [
    "### Get physical coordinates"
   ]
  },
  {
   "cell_type": "code",
   "execution_count": 29,
   "id": "5897b7ef-dca5-49fc-96e4-596a5e0a346c",
   "metadata": {},
   "outputs": [],
   "source": [
    "DSUN_OBS= 1.433675e6  # Solar diameter in km\n",
    "RSUN = DSUN_OBS/2  # Solar radius in km\n",
    "DT = 5*60 # 5 minutes time interval between each frame\n",
    "CDELT2  = 0.0141875720451562 # solar radius / px\n",
    "VUNIT = CDELT2 * RSUN/DT "
   ]
  },
  {
   "cell_type": "code",
   "execution_count": 30,
   "id": "64c051c6-4137-484c-86f3-bb05fd1559c5",
   "metadata": {},
   "outputs": [
    {
     "data": {
      "text/plain": [
       "array([[-11.30020408, 222.23734699],\n",
       "       [-11.30020408, 207.17040821],\n",
       "       [  7.53346939, 274.97163272],\n",
       "       [ -3.76673469, 214.7038776 ],\n",
       "       [  0.        , 237.30428577],\n",
       "       [ -3.76673469, 180.80326535],\n",
       "       [  7.53346939, 229.77081638],\n",
       "       [-30.13387756, 173.26979596],\n",
       "       [  0.        , 207.17040821],\n",
       "       [  0.        , 248.60448986],\n",
       "       [  3.76673469, 218.4706123 ],\n",
       "       [-15.06693878, 135.60244901],\n",
       "       [ -7.53346939, 177.03653065],\n",
       "       [  0.        , 282.50510211],\n",
       "       [  0.        , 169.50306127],\n",
       "       [  0.        , 199.63693882],\n",
       "       [ -3.76673469, 256.13795925],\n",
       "       [ -7.53346939, 128.06897962],\n",
       "       [ -3.76673469, 199.63693882],\n",
       "       [ -7.53346939, 199.63693882]])"
      ]
     },
     "execution_count": 30,
     "metadata": {},
     "output_type": "execute_result"
    }
   ],
   "source": [
    "avg_vel_km = avg_vel*VUNIT/9\n",
    "avg_vel_km"
   ]
  },
  {
   "cell_type": "code",
   "execution_count": 31,
   "id": "c560b93b-a438-46f5-be06-912b84650161",
   "metadata": {},
   "outputs": [
    {
     "data": {
      "text/plain": [
       "array([ -4.3317449 , 208.11209189])"
      ]
     },
     "execution_count": 31,
     "metadata": {},
     "output_type": "execute_result"
    }
   ],
   "source": [
    "avg_vel_km.mean(axis=0)"
   ]
  },
  {
   "cell_type": "code",
   "execution_count": null,
   "id": "e14f6933-7ebe-48b7-809a-f8b5c2453db8",
   "metadata": {},
   "outputs": [],
   "source": []
  }
 ],
 "metadata": {
  "kernelspec": {
   "display_name": "Python 3 (ipykernel)",
   "language": "python",
   "name": "python3"
  },
  "language_info": {
   "codemirror_mode": {
    "name": "ipython",
    "version": 3
   },
   "file_extension": ".py",
   "mimetype": "text/x-python",
   "name": "python",
   "nbconvert_exporter": "python",
   "pygments_lexer": "ipython3",
   "version": "3.9.16"
  }
 },
 "nbformat": 4,
 "nbformat_minor": 5
}
